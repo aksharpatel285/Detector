{
 "cells": [
  {
   "cell_type": "code",
   "execution_count": null,
   "metadata": {},
   "outputs": [],
   "source": [
    "import numpy as np\n",
    "import matplotlib.pyplot as mtp  \n",
    "import pandas as pd  \n",
    "import random\n",
    "from sklearn.feature_extraction.text import TfidfVectorizer\n",
    "  \n",
    "url = 'data_url.csv'\n",
    "url_csv = pd.read_csv(url,',',error_bad_lines=False)\n",
    "\n",
    "#Convert .csv data to dataframe\n",
    "url_df = pd.DataFrame(url_csv)\n",
    "url_df = np.array(url_df)  \n",
    "random.shuffle(url_df)\n",
    "y = [d[1] for d in url_df]           \n",
    "urls = [d[0] for d in url_df] \n",
    "\n",
    "#Convert dataframe into array\n",
    "url_df = np.array(url_df)  \n",
    "random.shuffle(url_df)\n",
    "def sanitization(web):\n",
    "    web = web.lower()\n",
    "    token = []\n",
    "    dot_token_slash = []\n",
    "    raw_slash = str(web).split('/')\n",
    "    for i in raw_slash:\n",
    "        # removing slash to get token\n",
    "        raw1 = str(i).split('-')\n",
    "        slash_token = []\n",
    "        for j in range(0,len(raw1)):\n",
    "            # removing dot to get the tokens\n",
    "            raw2 = str(raw1[j]).split('.')\n",
    "            slash_token = slash_token + raw2\n",
    "        dot_token_slash = dot_token_slash + raw1 + slash_token\n",
    "    # to remove same words\n",
    "    token = list(set(dot_token_slash))  \n",
    "    if 'com' in token:\n",
    "        #remove com\n",
    "        token.remove('com')\n",
    "    return token\n",
    "\n",
    "vectorizer = TfidfVectorizer(tokenizer=sanitization)\n",
    "x = vectorizer.fit_transform(urls)\n",
    "  \n",
    "# Splitting the dataset into training and test set.  \n",
    "from sklearn.model_selection import train_test_split  \n",
    "x_train, x_test, y_train, y_test= train_test_split(x, y, test_size= 0.2, random_state=0)  \n",
    "  \n",
    " "
   ]
  },
  {
   "cell_type": "code",
   "execution_count": 35,
   "metadata": {},
   "outputs": [],
   "source": [
    "from sklearn.ensemble import RandomForestClassifier  \n",
    "classifier= RandomForestClassifier(n_estimators= 50)  \n",
    "classifier.fit(x_train, y_train)"
   ]
  }
 ],
 "metadata": {
  "kernelspec": {
   "display_name": "Python 3",
   "language": "python",
   "name": "python3"
  },
  "language_info": {
   "codemirror_mode": {
    "name": "ipython",
    "version": 3
   },
   "file_extension": ".py",
   "mimetype": "text/x-python",
   "name": "python",
   "nbconvert_exporter": "python",
   "pygments_lexer": "ipython3",
   "version": "3.10.8"
  },
  "orig_nbformat": 4
 },
 "nbformat": 4,
 "nbformat_minor": 2
}
