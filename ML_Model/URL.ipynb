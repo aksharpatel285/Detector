{
 "cells": [
  {
   "cell_type": "markdown",
   "id": "78948ef8-821e-44bb-9e20-13c7a6033f19",
   "metadata": {},
   "source": [
    "#### Importing all the required libraries"
   ]
  },
  {
   "cell_type": "code",
   "execution_count": 20,
   "id": "47f98342-b8ad-48b6-85b4-207181e3aef7",
   "metadata": {},
   "outputs": [],
   "source": [
    "import pandas as pd\n",
    "import numpy as np\n",
    "import random\n",
    "import pickle\n",
    "from sklearn.model_selection import train_test_split\n",
    "from sklearn.feature_extraction.text import TfidfVectorizer\n",
    "from sklearn.linear_model import LogisticRegression\n"
   ]
  },
  {
   "attachments": {},
   "cell_type": "markdown",
   "id": "32e739dd-0630-4fd7-abe9-848cfb27a7a1",
   "metadata": {},
   "source": [
    "#### Import the Dataset named data_url which is located in dataset folder\n",
    " "
   ]
  },
  {
   "cell_type": "code",
   "execution_count": 21,
   "id": "d66598b0-dad4-4bd2-8a12-9b407d7205f1",
   "metadata": {},
   "outputs": [
    {
     "name": "stderr",
     "output_type": "stream",
     "text": [
      "C:\\Users\\Akshar\\AppData\\Local\\Temp\\ipykernel_13672\\4026688009.py:2: FutureWarning: In a future version of pandas all arguments of read_csv except for the argument 'filepath_or_buffer' will be keyword-only.\n",
      "  url_csv = pd.read_csv(url,',',error_bad_lines=False)\n",
      "C:\\Users\\Akshar\\AppData\\Local\\Temp\\ipykernel_13672\\4026688009.py:2: FutureWarning: The error_bad_lines argument has been deprecated and will be removed in a future version. Use on_bad_lines in the future.\n",
      "\n",
      "\n",
      "  url_csv = pd.read_csv(url,',',error_bad_lines=False)\n"
     ]
    }
   ],
   "source": [
    "url = 'data_url.csv'\n",
    "url_csv = pd.read_csv(url,',',error_bad_lines=False)\n",
    "\n",
    "#Convert .csv data to dataframe\n",
    "url_df = pd.DataFrame(url_csv)\n",
    "\n",
    "#Convert dataframe into array\n",
    "url_df = np.array(url_df)  \n",
    "random.shuffle(url_df)\n"
   ]
  },
  {
   "cell_type": "markdown",
   "id": "4e528eba-0c36-495e-a5a6-efc48e7e664f",
   "metadata": {},
   "source": [
    "#### Seperating the data according to it's characteristics"
   ]
  },
  {
   "cell_type": "code",
   "execution_count": 22,
   "id": "12bace9c-89d1-4243-978f-6a92cedfe9a8",
   "metadata": {},
   "outputs": [],
   "source": [
    "y = [d[1] for d in url_df]             # lable (like good or bad) \n",
    "urls = [d[0] for d in url_df]          # url which is already mention in dataset"
   ]
  },
  {
   "attachments": {},
   "cell_type": "markdown",
   "id": "3c9fdec8-2ef3-48e9-9a8b-b2c4a95a0648",
   "metadata": {},
   "source": [
    "#### URL is in a diffrent form like diffrent from normal text document so we need to sanitize in and split it."
   ]
  },
  {
   "cell_type": "code",
   "execution_count": 23,
   "id": "f9ca18a2-5ca1-4b58-a0fe-77e4b8957baf",
   "metadata": {},
   "outputs": [],
   "source": [
    "def sanitization(web):\n",
    "    web = web.lower()\n",
    "    token = []\n",
    "    dot_token_slash = []\n",
    "    raw_slash = str(web).split('/')\n",
    "    for i in raw_slash:\n",
    "        # removing slash to get token\n",
    "        raw1 = str(i).split('-')\n",
    "        slash_token = []\n",
    "        for j in range(0,len(raw1)):\n",
    "            # removing dot to get the tokens\n",
    "            raw2 = str(raw1[j]).split('.')\n",
    "            slash_token = slash_token + raw2\n",
    "        dot_token_slash = dot_token_slash + raw1 + slash_token\n",
    "    # to remove same words\n",
    "    token = list(set(dot_token_slash))  \n",
    "    if 'com' in token:\n",
    "        #remove com\n",
    "        token.remove('com')\n",
    "    return token"
   ]
  },
  {
   "attachments": {},
   "cell_type": "markdown",
   "id": "68c43a39-193c-42cc-87cf-f020ffa7d41f",
   "metadata": {},
   "source": [
    "#### Here we use custom vectorizer function using Tf-idf approach to pass the data. "
   ]
  },
  {
   "cell_type": "code",
   "execution_count": 24,
   "id": "9af28d71-2e3f-4f88-976d-b568e9f8c71b",
   "metadata": {},
   "outputs": [],
   "source": [
    "# term-frequency and inverse-document-frequency\n",
    "vectorizer = TfidfVectorizer(tokenizer=sanitization)"
   ]
  },
  {
   "cell_type": "markdown",
   "id": "84c8fba0-1878-416c-b17f-3da77eb24d49",
   "metadata": {},
   "source": [
    "#### Splitting the test set and train set"
   ]
  },
  {
   "cell_type": "code",
   "execution_count": 25,
   "id": "5681f7dd-8ffa-499b-8fc5-2006f4f43a0b",
   "metadata": {},
   "outputs": [
    {
     "name": "stderr",
     "output_type": "stream",
     "text": [
      "c:\\Users\\Akshar\\AppData\\Local\\Programs\\Python\\Python310\\lib\\site-packages\\sklearn\\feature_extraction\\text.py:528: UserWarning: The parameter 'token_pattern' will not be used since 'tokenizer' is not None'\n",
      "  warnings.warn(\n"
     ]
    }
   ],
   "source": [
    "x = vectorizer.fit_transform(urls)\n",
    "x_train, x_test, y_train, y_test = train_test_split(x, y, test_size=0.2, random_state=42)"
   ]
  },
  {
   "attachments": {},
   "cell_type": "markdown",
   "id": "46eaf946-e2fd-4ace-b580-116e3f74cc8d",
   "metadata": {},
   "source": [
    "#### run the logisticRegression for combine all the values."
   ]
  },
  {
   "cell_type": "code",
   "execution_count": 28,
   "id": "bc989ba2-6d48-41f4-ad3b-6b8ff4425591",
   "metadata": {},
   "outputs": [
    {
     "name": "stdout",
     "output_type": "stream",
     "text": [
      "Accuracy score of lgr: 98.49 %\n"
     ]
    }
   ],
   "source": [
    "lgr = LogisticRegression(solver='lbfgs', max_iter=1000)                 \n",
    "lgr.fit(x_train, y_train)\n",
    "score = lgr.score(x_test, y_test)\n",
    "print(\"Accuracy score of lgr: {0:.2f} %\".format(100 * score))\n",
    "vectorizer_save = vectorizer"
   ]
  },
  {
   "cell_type": "markdown",
   "id": "951166de-908e-4649-837b-ff5945021da9",
   "metadata": {},
   "source": [
    "#### Saving the modle and vectors"
   ]
  },
  {
   "cell_type": "code",
   "execution_count": 27,
   "id": "403718c3-3d3c-43c1-ae5e-e7b70b21a440",
   "metadata": {},
   "outputs": [],
   "source": [
    "file = \"pickel_model.pkl\"\n",
    "with open(file, 'wb') as f:\n",
    "    pickle.dump(lgr, f)\n",
    "f.close()\n",
    "\n",
    "file2 = \"pickel_vector.pkl\"\n",
    "with open(file2,'wb') as f2:\n",
    "    pickle.dump(vectorizer_save, f2)\n",
    "f2.close()"
   ]
  }
 ],
 "metadata": {
  "kernelspec": {
   "display_name": "Python 3",
   "language": "python",
   "name": "python3"
  },
  "language_info": {
   "codemirror_mode": {
    "name": "ipython",
    "version": 3
   },
   "file_extension": ".py",
   "mimetype": "text/x-python",
   "name": "python",
   "nbconvert_exporter": "python",
   "pygments_lexer": "ipython3",
   "version": "3.10.8"
  }
 },
 "nbformat": 4,
 "nbformat_minor": 5
}
